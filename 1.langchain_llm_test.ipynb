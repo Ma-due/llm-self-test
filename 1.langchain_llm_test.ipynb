{
 "cells": [
  {
   "cell_type": "code",
   "id": "initial_id",
   "metadata": {
    "collapsed": true,
    "ExecuteTime": {
     "end_time": "2025-03-10T23:57:31.226442Z",
     "start_time": "2025-03-10T23:57:31.207095Z"
    }
   },
   "source": [
    "from dotenv import load_dotenv\n",
    "\n",
    "load_dotenv()"
   ],
   "outputs": [
    {
     "data": {
      "text/plain": [
       "True"
      ]
     },
     "execution_count": 3,
     "metadata": {},
     "output_type": "execute_result"
    }
   ],
   "execution_count": 3
  },
  {
   "metadata": {
    "ExecuteTime": {
     "end_time": "2025-03-10T23:57:34.953769Z",
     "start_time": "2025-03-10T23:57:31.834048Z"
    }
   },
   "cell_type": "code",
   "source": [
    "from langchain_openai import ChatOpenAI\n",
    "\n",
    "llm = ChatOpenAI()\n"
   ],
   "id": "731a391dbdc88bac",
   "outputs": [],
   "execution_count": 4
  },
  {
   "metadata": {
    "ExecuteTime": {
     "end_time": "2025-03-10T23:57:36.776281Z",
     "start_time": "2025-03-10T23:57:34.961736Z"
    }
   },
   "cell_type": "code",
   "source": "ai_message = llm.invoke(\"인프런에 어떤 강의가 있나요?\")",
   "id": "b90271002741a191",
   "outputs": [],
   "execution_count": 5
  },
  {
   "metadata": {
    "ExecuteTime": {
     "end_time": "2025-03-10T23:57:37.043140Z",
     "start_time": "2025-03-10T23:57:37.037049Z"
    }
   },
   "cell_type": "code",
   "source": "ai_message.content",
   "id": "2e650cbab579099e",
   "outputs": [
    {
     "data": {
      "text/plain": [
       "'인프런에는 다양한 분야의 강의가 있습니다. 프로그래밍, 디자인, 비즈니스, 언어학습, 취미 및 재능 개발 등 다양한 주제에 관한 강의를 수강할 수 있습니다. 또한 프로젝트나 챌린지를 통해 실전 경험을 쌓을 수도 있습니다. 전문가들이 강의를 진행하며, 강의 수준은 초급부터 전문가까지 다양하게 제공됩니다. 원하는 분야나 레벨에 맞는 강의를 선택하여 수강할 수 있습니다.'"
      ]
     },
     "execution_count": 6,
     "metadata": {},
     "output_type": "execute_result"
    }
   ],
   "execution_count": 6
  },
  {
   "metadata": {},
   "cell_type": "code",
   "outputs": [],
   "execution_count": null,
   "source": "",
   "id": "b63aedbcc06711a8"
  }
 ],
 "metadata": {
  "kernelspec": {
   "display_name": "Python 3",
   "language": "python",
   "name": "python3"
  },
  "language_info": {
   "codemirror_mode": {
    "name": "ipython",
    "version": 2
   },
   "file_extension": ".py",
   "mimetype": "text/x-python",
   "name": "python",
   "nbconvert_exporter": "python",
   "pygments_lexer": "ipython2",
   "version": "2.7.6"
  }
 },
 "nbformat": 4,
 "nbformat_minor": 5
}
